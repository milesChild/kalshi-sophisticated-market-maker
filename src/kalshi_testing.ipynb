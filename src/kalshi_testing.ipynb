{
 "cells": [
  {
   "cell_type": "code",
   "execution_count": 1,
   "metadata": {},
   "outputs": [],
   "source": [
    "import kalshi_python\n",
    "from credentials import EMAIL, PW\n",
    "\n",
    "config = kalshi_python.Configuration()\n",
    "config.host = \"https://trading-api.kalshi.com/trade-api/v2\"\n",
    "\n",
    "kalshi_api = kalshi_python.ApiInstance(\n",
    "email=EMAIL,\n",
    "password=PW,\n",
    "configuration=config,\n",
    ")"
   ]
  },
  {
   "cell_type": "code",
   "execution_count": 2,
   "metadata": {},
   "outputs": [],
   "source": [
    "TICKER = \"VULTURES-24JAN12\""
   ]
  },
  {
   "cell_type": "code",
   "execution_count": 3,
   "metadata": {},
   "outputs": [],
   "source": [
    "# get_last\n",
    "\n",
    "market_response = kalshi_api.get_market(TICKER)\n",
    "market = market_response.market\n",
    "last_px = market.last_price"
   ]
  },
  {
   "cell_type": "code",
   "execution_count": 4,
   "metadata": {},
   "outputs": [
    {
     "name": "stdout",
     "output_type": "stream",
     "text": [
      "21 27\n"
     ]
    }
   ],
   "source": [
    "# get_orderbook\n",
    "\n",
    "orderbook_response = kalshi_api.get_market_orderbook(TICKER)\n",
    "orderbook = orderbook_response.orderbook\n",
    "type(orderbook)\n",
    "if len(orderbook.yes) > 0:\n",
    "    best_bid = max(orderbook.yes, key=lambda x: x[0])[0]\n",
    "else:\n",
    "    best_bid = 0\n",
    "if len(orderbook.no) > 0:\n",
    "    best_offer = 100 - max(orderbook.no, key=lambda x: x[0])[0]\n",
    "else:\n",
    "    best_offer = 0\n",
    "print(best_bid, best_offer)"
   ]
  },
  {
   "cell_type": "code",
   "execution_count": 10,
   "metadata": {},
   "outputs": [
    {
     "name": "stdout",
     "output_type": "stream",
     "text": [
      "[{'trade_id': '0b2995f9-1b18-44f7-bcad-cc914ed7d570', 'ticker': 'VULTURES-24JAN12', 'count': 1, 'created_time': '2024-01-02T22:33:53.425159Z', 'yes_price': 21, 'no_price': 79, 'taker_side': 'no'}, {'trade_id': 'dbd9e8d4-536c-407d-9e15-d3f62d3194d9', 'ticker': 'VULTURES-24JAN12', 'count': 100, 'created_time': '2024-01-02T22:27:22.966654Z', 'yes_price': 26, 'no_price': 74, 'taker_side': 'yes'}, {'trade_id': '39a6b9cf-59b3-47a3-8806-8a60f37758c1', 'ticker': 'VULTURES-24JAN12', 'count': 45, 'created_time': '2024-01-02T20:52:29.978768Z', 'yes_price': 21, 'no_price': 79, 'taker_side': 'no'}, {'trade_id': 'cb17b688-1ee6-41cc-8aa8-a0f3bfdc1bf0', 'ticker': 'VULTURES-24JAN12', 'count': 5, 'created_time': '2024-01-02T19:32:41.063948Z', 'yes_price': 25, 'no_price': 75, 'taker_side': 'yes'}, {'trade_id': '4f2e7a38-78b5-4274-8f42-2b285a1ade1f', 'ticker': 'VULTURES-24JAN12', 'count': 5, 'created_time': '2024-01-02T19:31:53.964475Z', 'yes_price': 25, 'no_price': 75, 'taker_side': 'yes'}, {'trade_id': 'd2bdbdf2-fede-405b-9904-9d6342522430', 'ticker': 'VULTURES-24JAN12', 'count': 12, 'created_time': '2024-01-02T19:27:17.779012Z', 'yes_price': 22, 'no_price': 78, 'taker_side': 'no'}, {'trade_id': 'd6ac7527-a35e-461d-9cec-d9a77ee158ed', 'ticker': 'VULTURES-24JAN12', 'count': 113, 'created_time': '2024-01-02T19:01:24.825956Z', 'yes_price': 29, 'no_price': 71, 'taker_side': 'no'}, {'trade_id': '3acb2fa8-5c2b-488c-b200-756e3a1a5a73', 'ticker': 'VULTURES-24JAN12', 'count': 96, 'created_time': '2024-01-02T19:01:24.825956Z', 'yes_price': 22, 'no_price': 78, 'taker_side': 'no'}, {'trade_id': 'fbf2b6a0-c257-40b6-9af0-8cb06f71a9d9', 'ticker': 'VULTURES-24JAN12', 'count': 40, 'created_time': '2024-01-02T14:41:05.485538Z', 'yes_price': 28, 'no_price': 72, 'taker_side': 'yes'}, {'trade_id': '97df3a18-8934-4a70-8bf5-622f957a9fb2', 'ticker': 'VULTURES-24JAN12', 'count': 4, 'created_time': '2024-01-01T20:59:09.323004Z', 'yes_price': 25, 'no_price': 75, 'taker_side': 'no'}, {'trade_id': 'def74f07-dc74-413f-9e0b-2194ebd6655c', 'ticker': 'VULTURES-24JAN12', 'count': 332, 'created_time': '2024-01-01T17:19:09.05999Z', 'yes_price': 30, 'no_price': 70, 'taker_side': 'no'}, {'trade_id': 'c29a424c-2331-4e81-b366-4e8a8a0d8815', 'ticker': 'VULTURES-24JAN12', 'count': 13, 'created_time': '2024-01-01T03:04:25.411319Z', 'yes_price': 30, 'no_price': 70, 'taker_side': 'no'}, {'trade_id': '2c38555a-d3ac-46af-9a12-48464620a1b5', 'ticker': 'VULTURES-24JAN12', 'count': 157, 'created_time': '2024-01-01T02:27:51.255185Z', 'yes_price': 33, 'no_price': 67, 'taker_side': 'yes'}, {'trade_id': '56a9a54b-601a-4935-8aa8-cfbcff08de07', 'ticker': 'VULTURES-24JAN12', 'count': 57, 'created_time': '2023-12-31T23:59:42.716742Z', 'yes_price': 33, 'no_price': 67, 'taker_side': 'yes'}, {'trade_id': 'a0b2ca0a-2c3c-4fd2-9337-ae96109cc990', 'ticker': 'VULTURES-24JAN12', 'count': 55, 'created_time': '2023-12-31T23:48:37.394045Z', 'yes_price': 30, 'no_price': 70, 'taker_side': 'no'}, {'trade_id': '485e47db-06c3-4a4e-bd42-3aeec2870a64', 'ticker': 'VULTURES-24JAN12', 'count': 400, 'created_time': '2023-12-31T20:03:08.49919Z', 'yes_price': 32, 'no_price': 68, 'taker_side': 'no'}, {'trade_id': 'b84b8559-c298-4b62-a6c3-47912c21fbcc', 'ticker': 'VULTURES-24JAN12', 'count': 15, 'created_time': '2023-12-31T18:02:57.518347Z', 'yes_price': 34, 'no_price': 66, 'taker_side': 'no'}, {'trade_id': 'e82c2866-ae6e-4716-a03d-88b6b768a227', 'ticker': 'VULTURES-24JAN12', 'count': 8, 'created_time': '2023-12-29T17:34:58.357127Z', 'yes_price': 35, 'no_price': 65, 'taker_side': 'no'}, {'trade_id': 'ee91a82c-e956-4051-8c15-a469baef7dbf', 'ticker': 'VULTURES-24JAN12', 'count': 25, 'created_time': '2023-12-28T23:46:10.631294Z', 'yes_price': 37, 'no_price': 63, 'taker_side': 'yes'}, {'trade_id': 'beec1416-68e5-4392-a578-845a8dfb89e2', 'ticker': 'VULTURES-24JAN12', 'count': 40, 'created_time': '2023-12-28T22:57:45.195647Z', 'yes_price': 35, 'no_price': 65, 'taker_side': 'yes'}, {'trade_id': '9ab3dfb8-a15a-449f-bb9d-4dd11c944708', 'ticker': 'VULTURES-24JAN12', 'count': 16, 'created_time': '2023-12-28T21:54:31.301101Z', 'yes_price': 35, 'no_price': 65, 'taker_side': 'yes'}, {'trade_id': 'de3c56d5-7add-4faa-8d33-ebbb5173e9f8', 'ticker': 'VULTURES-24JAN12', 'count': 13, 'created_time': '2023-12-28T20:20:40.583439Z', 'yes_price': 28, 'no_price': 72, 'taker_side': 'no'}, {'trade_id': 'de62bc6e-c1e0-43db-a17f-566ea90f89a9', 'ticker': 'VULTURES-24JAN12', 'count': 13, 'created_time': '2023-12-28T16:05:27.66921Z', 'yes_price': 28, 'no_price': 72, 'taker_side': 'no'}, {'trade_id': '809bacd4-57f3-4f7f-84fe-ada827e88dcd', 'ticker': 'VULTURES-24JAN12', 'count': 14, 'created_time': '2023-12-27T21:05:56.012765Z', 'yes_price': 31, 'no_price': 69, 'taker_side': 'no'}, {'trade_id': 'aa5bbba9-cb25-422b-a610-d6b295600857', 'ticker': 'VULTURES-24JAN12', 'count': 1, 'created_time': '2023-12-27T19:58:49.23318Z', 'yes_price': 32, 'no_price': 68, 'taker_side': 'no'}, {'trade_id': '8d480e24-eb6b-45a4-b5e8-bb8a63d3ac71', 'ticker': 'VULTURES-24JAN12', 'count': 160, 'created_time': '2023-12-27T16:54:50.944405Z', 'yes_price': 33, 'no_price': 67, 'taker_side': 'yes'}, {'trade_id': 'a01ba308-2692-449c-ae8c-5665871fb96d', 'ticker': 'VULTURES-24JAN12', 'count': 400, 'created_time': '2023-12-27T16:52:52.149532Z', 'yes_price': 31, 'no_price': 69, 'taker_side': 'yes'}, {'trade_id': '99148ffa-729b-4b9e-abe7-2d68d8d43f1d', 'ticker': 'VULTURES-24JAN12', 'count': 1, 'created_time': '2023-12-27T16:51:21.176873Z', 'yes_price': 27, 'no_price': 73, 'taker_side': 'yes'}, {'trade_id': 'be71dd9a-f471-4296-83d4-21dcd3e02bd6', 'ticker': 'VULTURES-24JAN12', 'count': 12, 'created_time': '2023-12-27T16:44:57.874156Z', 'yes_price': 26, 'no_price': 74, 'taker_side': 'no'}, {'trade_id': '86d0ff85-a09a-4d1c-a576-2b37e02f928f', 'ticker': 'VULTURES-24JAN12', 'count': 1, 'created_time': '2023-12-27T16:44:57.874156Z', 'yes_price': 30, 'no_price': 70, 'taker_side': 'no'}, {'trade_id': 'ce2dcda7-4f9f-4ded-bda2-231b1356d74d', 'ticker': 'VULTURES-24JAN12', 'count': 120, 'created_time': '2023-12-27T16:30:43.397601Z', 'yes_price': 29, 'no_price': 71, 'taker_side': 'yes'}, {'trade_id': '59335986-d22f-4ef1-a7d8-653908e5d1b3', 'ticker': 'VULTURES-24JAN12', 'count': 1, 'created_time': '2023-12-27T16:30:43.397601Z', 'yes_price': 27, 'no_price': 73, 'taker_side': 'yes'}, {'trade_id': 'db6e0067-923c-47e0-99bf-ca93812ed3b8', 'ticker': 'VULTURES-24JAN12', 'count': 5, 'created_time': '2023-12-27T14:27:41.12803Z', 'yes_price': 27, 'no_price': 73, 'taker_side': 'no'}, {'trade_id': 'bf05375a-f5c7-47c6-9324-b9e61806ee41', 'ticker': 'VULTURES-24JAN12', 'count': 61, 'created_time': '2023-12-27T14:27:41.12803Z', 'yes_price': 26, 'no_price': 74, 'taker_side': 'no'}, {'trade_id': '1ccec1b7-b4b4-407c-92b3-272b0b3c7af4', 'ticker': 'VULTURES-24JAN12', 'count': 1, 'created_time': '2023-12-27T02:41:58.494836Z', 'yes_price': 27, 'no_price': 73, 'taker_side': 'no'}, {'trade_id': 'c795f79e-77c9-4bce-b065-746096f60225', 'ticker': 'VULTURES-24JAN12', 'count': 12, 'created_time': '2023-12-27T02:41:57.526013Z', 'yes_price': 27, 'no_price': 73, 'taker_side': 'no'}, {'trade_id': '703d9617-f41f-482d-b10b-fb96bd2cf123', 'ticker': 'VULTURES-24JAN12', 'count': 1, 'created_time': '2023-12-27T02:41:57.526013Z', 'yes_price': 28, 'no_price': 72, 'taker_side': 'no'}, {'trade_id': '6b06075b-0fca-46da-92ed-35a1acad0351', 'ticker': 'VULTURES-24JAN12', 'count': 1, 'created_time': '2023-12-27T00:49:30.616659Z', 'yes_price': 29, 'no_price': 71, 'taker_side': 'yes'}, {'trade_id': '1fb5073f-a5be-46a7-b57f-a7fedcf31935', 'ticker': 'VULTURES-24JAN12', 'count': 1, 'created_time': '2023-12-26T23:01:10.455904Z', 'yes_price': 27, 'no_price': 73, 'taker_side': 'no'}, {'trade_id': '217c2d36-f393-41d1-b6a6-cecd0485876c', 'ticker': 'VULTURES-24JAN12', 'count': 2, 'created_time': '2023-12-26T23:00:23.08212Z', 'yes_price': 27, 'no_price': 73, 'taker_side': 'no'}, {'trade_id': '2a422064-0ebb-4dea-a75f-5ab55339dd22', 'ticker': 'VULTURES-24JAN12', 'count': 1, 'created_time': '2023-12-26T22:59:52.02163Z', 'yes_price': 29, 'no_price': 71, 'taker_side': 'yes'}, {'trade_id': '97604ef1-5dbf-4fba-9df2-8740e7333966', 'ticker': 'VULTURES-24JAN12', 'count': 1, 'created_time': '2023-12-26T22:58:57.099216Z', 'yes_price': 29, 'no_price': 71, 'taker_side': 'yes'}, {'trade_id': 'f2cc1819-6e95-4d86-9aa1-395903294e68', 'ticker': 'VULTURES-24JAN12', 'count': 19, 'created_time': '2023-12-26T20:16:51.878237Z', 'yes_price': 27, 'no_price': 73, 'taker_side': 'yes'}, {'trade_id': '9cb5f56e-4ff0-416f-a7bc-d36d3d77dbd0', 'ticker': 'VULTURES-24JAN12', 'count': 10, 'created_time': '2023-12-26T14:37:35.402993Z', 'yes_price': 27, 'no_price': 73, 'taker_side': 'yes'}, {'trade_id': '0f77e8b3-6c08-44c3-a90e-918f31616fd2', 'ticker': 'VULTURES-24JAN12', 'count': 13, 'created_time': '2023-12-25T18:52:00.273929Z', 'yes_price': 26, 'no_price': 74, 'taker_side': 'no'}, {'trade_id': 'd23f4271-1b3f-4272-adc8-6f842eba9d65', 'ticker': 'VULTURES-24JAN12', 'count': 1, 'created_time': '2023-12-25T04:55:05.461332Z', 'yes_price': 27, 'no_price': 73, 'taker_side': 'yes'}, {'trade_id': '983978c1-3bbc-40f0-a147-aca5cb0c175d', 'ticker': 'VULTURES-24JAN12', 'count': 1, 'created_time': '2023-12-24T02:00:53.528158Z', 'yes_price': 25, 'no_price': 75, 'taker_side': 'no'}, {'trade_id': '505ed059-2a59-465d-9ef4-28c0939198d9', 'ticker': 'VULTURES-24JAN12', 'count': 1, 'created_time': '2023-12-23T19:44:47.101852Z', 'yes_price': 23, 'no_price': 77, 'taker_side': 'no'}, {'trade_id': 'f7f43d80-dc78-4488-bd62-b9885a66b740', 'ticker': 'VULTURES-24JAN12', 'count': 35, 'created_time': '2023-12-23T03:15:04.510663Z', 'yes_price': 27, 'no_price': 73, 'taker_side': 'yes'}, {'trade_id': '35189fe5-20ed-4dc7-a3fb-f51ec97ece23', 'ticker': 'VULTURES-24JAN12', 'count': 35, 'created_time': '2023-12-23T03:14:11.497411Z', 'yes_price': 27, 'no_price': 73, 'taker_side': 'yes'}, {'trade_id': '6588c759-0ffa-4f00-9998-28168698c925', 'ticker': 'VULTURES-24JAN12', 'count': 6, 'created_time': '2023-12-22T22:38:40.623779Z', 'yes_price': 26, 'no_price': 74, 'taker_side': 'yes'}, {'trade_id': '21ac8f08-b571-4b29-96bd-0ec4a5bef833', 'ticker': 'VULTURES-24JAN12', 'count': 2, 'created_time': '2023-12-22T22:38:40.623779Z', 'yes_price': 27, 'no_price': 73, 'taker_side': 'yes'}, {'trade_id': '1c5dfba4-096a-44b4-999e-324226ba4867', 'ticker': 'VULTURES-24JAN12', 'count': 6, 'created_time': '2023-12-22T22:38:40.623779Z', 'yes_price': 25, 'no_price': 75, 'taker_side': 'yes'}, {'trade_id': '8055bb8a-bb29-413b-8793-2a6ac5329fe5', 'ticker': 'VULTURES-24JAN12', 'count': 120, 'created_time': '2023-12-22T18:08:29.759803Z', 'yes_price': 25, 'no_price': 75, 'taker_side': 'no'}, {'trade_id': '2b054abd-b30a-49fc-aa44-183e64f46363', 'ticker': 'VULTURES-24JAN12', 'count': 37, 'created_time': '2023-12-22T18:08:29.759803Z', 'yes_price': 26, 'no_price': 74, 'taker_side': 'no'}, {'trade_id': 'f7026d3f-c572-4b5f-8ba8-9f0d6e4b7887', 'ticker': 'VULTURES-24JAN12', 'count': 84, 'created_time': '2023-12-22T16:13:12.328886Z', 'yes_price': 27, 'no_price': 73, 'taker_side': 'no'}, {'trade_id': 'bdf42265-43f7-471b-b54f-0c63492459c8', 'ticker': 'VULTURES-24JAN12', 'count': 14, 'created_time': '2023-12-22T02:33:57.372184Z', 'yes_price': 33, 'no_price': 67, 'taker_side': 'yes'}, {'trade_id': '7864fe7a-b657-4940-b2a8-9d47c75c6a75', 'ticker': 'VULTURES-24JAN12', 'count': 9, 'created_time': '2023-12-22T02:28:53.984479Z', 'yes_price': 27, 'no_price': 73, 'taker_side': 'no'}, {'trade_id': 'de467005-38d0-4569-a458-1baa5fdba868', 'ticker': 'VULTURES-24JAN12', 'count': 23, 'created_time': '2023-12-22T01:23:07.682451Z', 'yes_price': 33, 'no_price': 67, 'taker_side': 'yes'}, {'trade_id': 'b15a66a7-ee5c-4f3d-9793-c7bd0fa03699', 'ticker': 'VULTURES-24JAN12', 'count': 14, 'created_time': '2023-12-22T01:14:31.580252Z', 'yes_price': 32, 'no_price': 68, 'taker_side': 'yes'}, {'trade_id': 'cd89f659-1776-4e9c-a526-bf0189cd1987', 'ticker': 'VULTURES-24JAN12', 'count': 6, 'created_time': '2023-12-22T01:11:09.251155Z', 'yes_price': 36, 'no_price': 64, 'taker_side': 'no'}, {'trade_id': 'eded0978-81d5-43e7-9944-456d1a8fcf78', 'ticker': 'VULTURES-24JAN12', 'count': 150, 'created_time': '2023-12-22T01:09:19.900887Z', 'yes_price': 35, 'no_price': 65, 'taker_side': 'no'}, {'trade_id': 'ab37a7cf-c9fc-4153-809e-cde7a0f2b66c', 'ticker': 'VULTURES-24JAN12', 'count': 150, 'created_time': '2023-12-22T01:09:19.900887Z', 'yes_price': 37, 'no_price': 63, 'taker_side': 'no'}, {'trade_id': '4aaf1957-a20b-441f-ac65-8a18ba5915da', 'ticker': 'VULTURES-24JAN12', 'count': 30, 'created_time': '2023-12-22T01:09:19.900887Z', 'yes_price': 40, 'no_price': 60, 'taker_side': 'no'}, {'trade_id': 'd973ebf3-899c-4da9-bb8c-ad2696b3a20b', 'ticker': 'VULTURES-24JAN12', 'count': 19, 'created_time': '2023-12-22T01:08:27.790222Z', 'yes_price': 50, 'no_price': 50, 'taker_side': 'no'}, {'trade_id': 'e41066d5-4574-4bed-a4b5-7287b4d698d5', 'ticker': 'VULTURES-24JAN12', 'count': 7, 'created_time': '2023-12-22T01:03:54.836443Z', 'yes_price': 68, 'no_price': 32, 'taker_side': 'yes'}, {'trade_id': '3405aa2a-c1c3-46b9-94db-b29fc15212d1', 'ticker': 'VULTURES-24JAN12', 'count': 7, 'created_time': '2023-12-22T00:56:09.889185Z', 'yes_price': 68, 'no_price': 32, 'taker_side': 'yes'}, {'trade_id': '7edcd168-fcc0-4399-99bb-bdc5353a1408', 'ticker': 'VULTURES-24JAN12', 'count': 7, 'created_time': '2023-12-22T00:47:31.339568Z', 'yes_price': 69, 'no_price': 31, 'taker_side': 'yes'}, {'trade_id': '877f9ac8-7e26-4097-8a04-2994a12fd44d', 'ticker': 'VULTURES-24JAN12', 'count': 7, 'created_time': '2023-12-22T00:46:38.19455Z', 'yes_price': 69, 'no_price': 31, 'taker_side': 'yes'}, {'trade_id': '3ad3410c-359b-4882-b96f-9c1440e1ad0d', 'ticker': 'VULTURES-24JAN12', 'count': 14, 'created_time': '2023-12-22T00:45:52.984146Z', 'yes_price': 69, 'no_price': 31, 'taker_side': 'yes'}]\n"
     ]
    }
   ],
   "source": [
    "# get trades\n",
    "\n",
    "trades_response = kalshi_api.get_trades(ticker=TICKER)\n",
    "trades = trades_response.trades\n",
    "print(trades)"
   ]
  },
  {
   "cell_type": "code",
   "execution_count": 11,
   "metadata": {},
   "outputs": [
    {
     "data": {
      "text/plain": [
       "'2023-12-22T00:45:52.984146Z'"
      ]
     },
     "execution_count": 11,
     "metadata": {},
     "output_type": "execute_result"
    }
   ],
   "source": [
    "trades[-1]['created_time']"
   ]
  },
  {
   "cell_type": "code",
   "execution_count": 15,
   "metadata": {},
   "outputs": [
    {
     "data": {
      "text/plain": [
       "46"
      ]
     },
     "execution_count": 15,
     "metadata": {},
     "output_type": "execute_result"
    }
   ],
   "source": [
    "old_trades = trades[:50]\n",
    "new_trades = trades[-50:]\n",
    "\n",
    "def trade_diff(old_trades, new_trades):\n",
    "    if len(old_trades) == 0:\n",
    "        return new_trades\n",
    "    last_ts = old_trades[-1]['created_time']\n",
    "    trades = []\n",
    "    for trade in new_trades:\n",
    "        if trade['created_time'] > last_ts:\n",
    "            trades.append(trade)\n",
    "    return trades\n",
    "\n",
    "trades = trade_diff(old_trades, new_trades)\n",
    "len(trades)"
   ]
  },
  {
   "cell_type": "code",
   "execution_count": 6,
   "metadata": {},
   "outputs": [
    {
     "data": {
      "text/plain": [
       "{'cursor': None,\n",
       " 'event_positions': [{'event_exposure': 39,\n",
       "                      'event_ticker': 'INXZ-23DEC27',\n",
       "                      'fees_paid': 3,\n",
       "                      'realized_pnl': -119,\n",
       "                      'resting_order_count': 2,\n",
       "                      'total_cost': 3058}],\n",
       " 'market_positions': [{'fees_paid': 3,\n",
       "                       'market_exposure': 39,\n",
       "                       'position': -1,\n",
       "                       'realized_pnl': -119,\n",
       "                       'resting_orders_count': 2,\n",
       "                       'ticker': 'INXZ-23DEC27-T4774.75',\n",
       "                       'total_traded': 3058}]}"
      ]
     },
     "execution_count": 6,
     "metadata": {},
     "output_type": "execute_result"
    }
   ],
   "source": [
    "# get_inventory\n",
    "\n",
    "TICKER2 = \"VULTURES-23JAN31\"\n",
    "\n",
    "inventory_response = kalshi_api.get_positions(ticker=\"INXZ-23DEC27-T4774.75\")\n",
    "# inventory_response.market_positions[0]\n",
    "inventory_response\n",
    "# position = 0\n",
    "# for posn in inventory_response.market_positions:\n",
    "#     print(posn)\n",
    "#     if posn.ticker == TICKER:\n",
    "#         position += posn.position\n",
    "# position"
   ]
  },
  {
   "cell_type": "code",
   "execution_count": 48,
   "metadata": {},
   "outputs": [],
   "source": [
    "# get open orders\n",
    "\n",
    "get_orders_response = kalshi_api.get_orders(ticker=TICKER)\n",
    "for order in get_orders_response.orders:\n",
    "    if order['status'] == \"resting\":\n",
    "        print(order)"
   ]
  },
  {
   "cell_type": "code",
   "execution_count": 43,
   "metadata": {},
   "outputs": [
    {
     "data": {
      "text/plain": [
       "{'order': {'action': 'buy',\n",
       "           'client_order_id': '1f61ec83-9909-4fac-b933-b18f7f735839',\n",
       "           'created_time': '2023-12-27T00:34:26.21883Z',\n",
       "           'expiration_time': None,\n",
       "           'no_price': 72,\n",
       "           'order_id': '39a5f89f-3daf-4267-9921-e8119fc7b8c1',\n",
       "           'side': 'yes',\n",
       "           'status': 'resting',\n",
       "           'ticker': 'VULTURES-24JAN12',\n",
       "           'type': 'limit',\n",
       "           'user_id': '066cb11c-d233-4566-98dd-f53178e467a6',\n",
       "           'yes_price': 28}}"
      ]
     },
     "execution_count": 43,
     "metadata": {},
     "output_type": "execute_result"
    }
   ],
   "source": [
    "# place_order\n",
    "import uuid\n",
    "\n",
    "yes_order = {'action': 'buy', 'type': 'limit', 'ticker': TICKER, 'count': 1, 'side': 'yes', 'yes_price': 28, 'client_order_id': str(uuid.uuid4())}\n",
    "no_order = {'action': 'buy', 'type': 'limit', 'ticker': TICKER, 'count': 1, 'side': 'no', 'no_price': 77}\n",
    "\n",
    "order_response = kalshi_api.create_order(yes_order)\n",
    "order_response"
   ]
  },
  {
   "cell_type": "code",
   "execution_count": 47,
   "metadata": {},
   "outputs": [
    {
     "data": {
      "text/plain": [
       "{'order': {'action': 'buy',\n",
       "           'client_order_id': '1f61ec83-9909-4fac-b933-b18f7f735839',\n",
       "           'close_cancel_count': 0,\n",
       "           'created_time': '2023-12-27T00:34:26.21883Z',\n",
       "           'decrease_count': 1,\n",
       "           'expiration_time': None,\n",
       "           'fcc_cancel_count': 0,\n",
       "           'last_update_time': '2023-12-27T00:35:18.703383Z',\n",
       "           'maker_fill_count': 0,\n",
       "           'no_price': 72,\n",
       "           'order_id': '39a5f89f-3daf-4267-9921-e8119fc7b8c1',\n",
       "           'place_count': 1,\n",
       "           'queue_position': 0,\n",
       "           'remaining_count': 0,\n",
       "           'side': 'yes',\n",
       "           'status': 'canceled',\n",
       "           'taker_fees': 0,\n",
       "           'taker_fill_cost': 0,\n",
       "           'taker_fill_count': 0,\n",
       "           'ticker': 'VULTURES-24JAN12',\n",
       "           'type': 'limit',\n",
       "           'user_id': '066cb11c-d233-4566-98dd-f53178e467a6',\n",
       "           'yes_price': 28},\n",
       " 'reduced_by': 1}"
      ]
     },
     "execution_count": 47,
     "metadata": {},
     "output_type": "execute_result"
    }
   ],
   "source": [
    "# cancel order\n",
    "\n",
    "ID = \"39a5f89f-3daf-4267-9921-e8119fc7b8c1\"\n",
    "\n",
    "cancel_response = kalshi_api.cancel_order(ID)\n",
    "cancel_response"
   ]
  }
 ],
 "metadata": {
  "kernelspec": {
   "display_name": "Python 3",
   "language": "python",
   "name": "python3"
  },
  "language_info": {
   "codemirror_mode": {
    "name": "ipython",
    "version": 3
   },
   "file_extension": ".py",
   "mimetype": "text/x-python",
   "name": "python",
   "nbconvert_exporter": "python",
   "pygments_lexer": "ipython3",
   "version": "3.9.12"
  },
  "orig_nbformat": 4
 },
 "nbformat": 4,
 "nbformat_minor": 2
}
